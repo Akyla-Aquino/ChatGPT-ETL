{
 "cells": [
  {
   "cell_type": "markdown",
   "id": "7ab28009-71c4-423d-a0fd-3c957e1e11e8",
   "metadata": {},
   "source": [
    "# Projeto ETL - Openai\n",
    "## Objetivo\n",
    "### O projeto tem como objetivo fazer um ETL ( Extraction - Transform - Loading ), a api utilizada foi feita na live Santander Coders Week. Podendo ser acessada através do link (https://github.com/digitalinnovationone/santander-dev-week-2023-api) caso o servidor da API não esteja online."
   ]
  },
  {
   "cell_type": "code",
   "execution_count": 1,
   "id": "fb166eb5-9be7-4bba-9da6-f52eefa18ec5",
   "metadata": {
    "tags": []
   },
   "outputs": [],
   "source": [
    "api = 'https://sdw-2023-prd.up.railway.app'\n",
    "openai_key = 'SUA CHAVE OPENAI'"
   ]
  },
  {
   "cell_type": "markdown",
   "id": "04d42b2c-7045-4649-9226-fd31ccc865b1",
   "metadata": {},
   "source": [
    "## Importando biliotecas utilizadas e carregando dados do arquivo .csv\n",
    "### Os dados do arquivo contém o ID dos usuários que queremos procurar na API"
   ]
  },
  {
   "cell_type": "code",
   "execution_count": 2,
   "id": "0e0faceb-5d24-4ceb-af88-840477e85e07",
   "metadata": {
    "tags": []
   },
   "outputs": [
    {
     "name": "stdout",
     "output_type": "stream",
     "text": [
      "[100, 150, 120]\n"
     ]
    }
   ],
   "source": [
    "import pandas as pd\n",
    "import requests\n",
    "import json\n",
    "import openai\n",
    "\n",
    "df = pd.read_csv('DWSC.csv')\n",
    "user_ids = df['UserID'].tolist()\n",
    "\n",
    "print(user_ids)"
   ]
  },
  {
   "cell_type": "markdown",
   "id": "8cd75693-c52b-4126-be7f-e9ec733481f1",
   "metadata": {},
   "source": [
    "## Testando a API e utilizando requisição GET para pegar os usuários com ID's do .csv"
   ]
  },
  {
   "cell_type": "code",
   "execution_count": 3,
   "id": "c3cf1c19-e223-449a-938f-95a5b0956364",
   "metadata": {
    "tags": []
   },
   "outputs": [
    {
     "name": "stdout",
     "output_type": "stream",
     "text": [
      "[\n",
      "  {\n",
      "    \"id\": 100,\n",
      "    \"name\": \"\\u00cdtalo\",\n",
      "    \"account\": {\n",
      "      \"id\": 107,\n",
      "      \"number\": \"00001-19\",\n",
      "      \"agency\": \"9999\",\n",
      "      \"balance\": 0.0,\n",
      "      \"limit\": 200.0\n",
      "    },\n",
      "    \"card\": {\n",
      "      \"id\": 99,\n",
      "      \"number\": \"**** **** **** 1129\",\n",
      "      \"limit\": 700.0\n",
      "    },\n",
      "    \"features\": [\n",
      "      {\n",
      "        \"id\": 688,\n",
      "        \"icon\": \"Sobrenome // Idade // CPF\",\n",
      "        \"description\": \"Oliveira // 27 // 674.832.789-44\"\n",
      "      }\n",
      "    ],\n",
      "    \"news\": [\n",
      "      {\n",
      "        \"id\": 420,\n",
      "        \"icon\": \"https://images.genius.com/31fac7e2bef0ff83f25dbd8077863794.1000x1000x1.jpg\",\n",
      "        \"description\": \"Eduardo esteve aqui\"\n",
      "      },\n",
      "      {\n",
      "        \"id\": 421,\n",
      "        \"icon\": \"https://images.genius.com/31fac7e2bef0ff83f25dbd8077863794.1000x1000x1.jpg\",\n",
      "        \"description\": \"Eduardo esteve aqui\"\n",
      "      },\n",
      "      {\n",
      "        \"id\": 1056,\n",
      "        \"icon\": \"https://digitalinnovationone.github.io/santander-dev-week-2023-api/icons/credit.svg\",\n",
      "        \"description\": \"\\u00cdtalo, \\u00e9 claro que o surgimento do com\\u00e9rcio virtual afeta positivamente a correta previs\\u00e3o das formas de a\\u00e7\\u00e3o. \"\n",
      "      },\n",
      "      {\n",
      "        \"id\": 1477,\n",
      "        \"icon\": \"https://digitalinnovationone.github.io/santander-dev-week-2023-api/icons/credit.svg\",\n",
      "        \"description\": \"Invista agora e garanta seu futuro financeiro!\"\n",
      "      },\n",
      "      {\n",
      "        \"id\": 3299,\n",
      "        \"icon\": null,\n",
      "        \"description\": \"Ol\\u00e1 \\u00cdtalo! Invista seu dinheiro com intelig\\u00eancia e conquiste seus objetivos financeiros. Conte com nosso apoio para alcan\\u00e7ar seus sonhos. #InvestimentosBanc\\u00e1rios\"\n",
      "      }\n",
      "    ]\n",
      "  },\n",
      "  {\n",
      "    \"id\": 150,\n",
      "    \"name\": \"Roberto Carlos\",\n",
      "    \"account\": {\n",
      "      \"id\": 153,\n",
      "      \"number\": \"005321-1\",\n",
      "      \"agency\": \"0243\",\n",
      "      \"balance\": 0.0,\n",
      "      \"limit\": 500.0\n",
      "    },\n",
      "    \"card\": {\n",
      "      \"id\": 144,\n",
      "      \"number\": \"3213 1234 4321 1111\",\n",
      "      \"limit\": 1000.0\n",
      "    },\n",
      "    \"features\": [],\n",
      "    \"news\": [\n",
      "      {\n",
      "        \"id\": 506,\n",
      "        \"icon\": \"https://images.genius.com/31fac7e2bef0ff83f25dbd8077863794.1000x1000x1.jpg\",\n",
      "        \"description\": \"Eduardo esteve aqui\"\n",
      "      },\n",
      "      {\n",
      "        \"id\": 507,\n",
      "        \"icon\": \"https://images.genius.com/31fac7e2bef0ff83f25dbd8077863794.1000x1000x1.jpg\",\n",
      "        \"description\": \"Eduardo esteve aqui\"\n",
      "      },\n",
      "      {\n",
      "        \"id\": 1102,\n",
      "        \"icon\": \"https://digitalinnovationone.github.io/santander-dev-week-2023-api/icons/credit.svg\",\n",
      "        \"description\": \"Roberto Carlos, o empenho em analisar o novo modelo estrutural aqui preconizado estimula a padroniza\\u00e7\\u00e3o de alternativas \\u00e0s solu\\u00e7\\u00f5es ortodoxas. \"\n",
      "      }\n",
      "    ]\n",
      "  }\n",
      "]\n"
     ]
    }
   ],
   "source": [
    "\n",
    "\n",
    "def get_user(id):\n",
    "    response = requests.get(f'{api}/users/{id}')\n",
    "    return response.json() if response.status_code == 200 else None\n",
    "\n",
    "users = [user for id in user_ids if (user := get_user(id)) is not None]\n",
    "\n",
    "print(json.dumps(users, indent=2))"
   ]
  },
  {
   "cell_type": "markdown",
   "id": "2cfe79a9-99da-4e12-a2ef-99afc9ccbd84",
   "metadata": {},
   "source": [
    "## Openai\n",
    "### Aqui carregamos a biblioteca da Openai para utilizar a API do ChatGPT.\n",
    "### No código abaixo pegamos os usuários pesquisados na API do Santander e criamos mensagens personalizadas para estes através da API do ChatGPT\n",
    "### OBS: Para utilizar a biblioteca é necessário buscar a chave de acesso da API, ela está disponível no site da OpenAI "
   ]
  },
  {
   "cell_type": "code",
   "execution_count": 5,
   "id": "01237801-f0da-4125-a53d-75b25a38a64d",
   "metadata": {
    "tags": []
   },
   "outputs": [
    {
     "name": "stdout",
     "output_type": "stream",
     "text": [
      "Ítalo, a inteligência artificial revoluciona a forma como vivemos e trabalhamos. Não subestime seu potencial; abrace essa tecnologia e esteja preparado para moldar o futuro.\n",
      "Roberto Carlos, a inteligência artificial revoluciona a forma como vivemos. Com ela, conquistamos avanços incríveis e abrimos caminho para um futuro ainda mais brilhante. Explore todo o seu potencial!\n"
     ]
    }
   ],
   "source": [
    "openai.api_key = openai_key\n",
    "\n",
    "def generate_ai_news(user):\n",
    "    completion = openai.ChatCompletion.create(\n",
    "      model=\"gpt-3.5-turbo\",\n",
    "      messages=[\n",
    "        {\n",
    "            \"role\": \"system\", \n",
    "            \"content\": \"Você é um especialista em engenharia da computação.\"\n",
    "        },\n",
    "        {\n",
    "            \"role\": \"user\", \n",
    "            \"content\": f\"Crie uma mensagem para {user['name']} sobre a importância da inteligência artificial (máximo de 200 caracteres)\",\n",
    "        }\n",
    "      ]\n",
    "    )\n",
    "    return completion.choices[0].message.content.strip('\\\"')\n",
    "    \n",
    "for user in users:\n",
    "    news = generate_ai_news(user)\n",
    "    print(news)\n",
    "    user['news'].append({\n",
    "         \"icon\": \"https://images.genius.com/31fac7e2bef0ff83f25dbd8077863794.1000x1000x1.jpg\",\n",
    "         \"description\": news\n",
    "    })\n"
   ]
  },
  {
   "cell_type": "markdown",
   "id": "ef30cdaa-10d5-4849-829f-23a3cdcbb04a",
   "metadata": {},
   "source": [
    "## Atualização\n",
    "### Fazemos a atualização dos usuários para através de uma requisição PUT para a API do Santander Coders."
   ]
  },
  {
   "cell_type": "code",
   "execution_count": 6,
   "id": "7624afd0-18a5-4a91-b6d8-f441510d3567",
   "metadata": {},
   "outputs": [
    {
     "name": "stdout",
     "output_type": "stream",
     "text": [
      "User: Ítalo updated? True!\n",
      "User: Roberto Carlos updated? True!\n"
     ]
    }
   ],
   "source": [
    "def update_user(user):\n",
    "    response = requests.put(f\"{api}/users/{user['id']}\",json=user)\n",
    "    return True if response.status_code  == 200 else False\n",
    "\n",
    "for user in users:\n",
    "    sucess = update_user(user)\n",
    "    print(f\"User: {user['name']} updated? {sucess}!\")"
   ]
  },
  {
   "cell_type": "code",
   "execution_count": null,
   "id": "b0de2de7-44b2-401c-98e3-2648e17030bb",
   "metadata": {},
   "outputs": [],
   "source": []
  }
 ],
 "metadata": {
  "kernelspec": {
   "display_name": "Python 3 (ipykernel)",
   "language": "python",
   "name": "python3"
  },
  "language_info": {
   "codemirror_mode": {
    "name": "ipython",
    "version": 3
   },
   "file_extension": ".py",
   "mimetype": "text/x-python",
   "name": "python",
   "nbconvert_exporter": "python",
   "pygments_lexer": "ipython3",
   "version": "3.8.9"
  },
  "toc-autonumbering": false
 },
 "nbformat": 4,
 "nbformat_minor": 5
}
